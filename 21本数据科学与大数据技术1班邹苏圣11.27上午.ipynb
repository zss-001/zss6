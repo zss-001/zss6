{
 "cells": [
  {
   "cell_type": "code",
   "execution_count": 3,
   "id": "43525cdd-3ee8-40e6-871b-e86622e30530",
   "metadata": {},
   "outputs": [
    {
     "name": "stdout",
     "output_type": "stream",
     "text": [
      "tensor([[1., 1., 1.],\n",
      "        [1., 1., 1.],\n",
      "        [1., 1., 1.]])\n"
     ]
    }
   ],
   "source": [
    "import torch\n",
    "\n",
    "a = torch.tensor([1, 1, 1], dtype=torch.float32).view(-1, 1)\n",
    "b = torch.tensor([1, 1, 1], dtype=torch.float32).view(-1, 1)\n",
    "X = torch.zeros((3, 3), requires_grad=True)\n",
    "f = a.t() @ torch.exp(X) @ b\n",
    "f.backward()\n",
    "gradient_matrix = X.grad\n",
    "print(gradient_matrix)"
   ]
  },
  {
   "cell_type": "code",
   "execution_count": null,
   "id": "272e9a94-eba2-4d34-a8f0-f742abee9156",
   "metadata": {},
   "outputs": [],
   "source": []
  },
  {
   "cell_type": "code",
   "execution_count": null,
   "id": "9822d294-2f3a-498f-8a4c-6e6919f22a4d",
   "metadata": {},
   "outputs": [],
   "source": []
  },
  {
   "cell_type": "code",
   "execution_count": null,
   "id": "fb766e01-dac8-4d0d-aae9-156fafe0e285",
   "metadata": {},
   "outputs": [],
   "source": []
  },
  {
   "cell_type": "code",
   "execution_count": null,
   "id": "0cf09606-e062-40d4-82d2-50d8b091f5c4",
   "metadata": {},
   "outputs": [],
   "source": []
  }
 ],
 "metadata": {
  "kernelspec": {
   "display_name": "Python 3 (ipykernel)",
   "language": "python",
   "name": "python3"
  },
  "language_info": {
   "codemirror_mode": {
    "name": "ipython",
    "version": 3
   },
   "file_extension": ".py",
   "mimetype": "text/x-python",
   "name": "python",
   "nbconvert_exporter": "python",
   "pygments_lexer": "ipython3",
   "version": "3.9.13"
  }
 },
 "nbformat": 4,
 "nbformat_minor": 5
}

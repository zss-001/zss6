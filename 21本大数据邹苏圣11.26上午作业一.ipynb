{
 "cells": [
  {
   "cell_type": "code",
   "execution_count": 1,
   "id": "c577a7f8-7006-4ef9-9e57-7fec8077e4d9",
   "metadata": {},
   "outputs": [],
   "source": [
    "import torch"
   ]
  },
  {
   "cell_type": "code",
   "execution_count": 4,
   "id": "9adc8ce3-c298-4686-9996-8cfc73b20b24",
   "metadata": {},
   "outputs": [
    {
     "name": "stdout",
     "output_type": "stream",
     "text": [
      "x0:  tensor(0.0121, requires_grad=True) y0:  tensor(0.0001, grad_fn=<PowBackward0>) x0.grad:  tensor(0.0242)\n"
     ]
    }
   ],
   "source": [
    "#例题\n",
    "import numpy as np\n",
    "import matplotlib.pyplot as plt\n",
    "\n",
    "x0 = torch.tensor(5.0, requires_grad=True)\n",
    "y0 = x0**2\n",
    "\n",
    "alpha = 0.1\n",
    "epsilon = 0.0001\n",
    "\n",
    "x_values = []\n",
    "y_values = []\n",
    "\n",
    "# 循环直到y的变化小于epsilon\n",
    "while True:\n",
    "    # 计算梯度\n",
    "    y0.backward()\n",
    "    y = y0.item()  # 保存y0在当前迭代的取值，用于判断迭代的停止条件\n",
    "    # 更新x0\n",
    "    with torch.no_grad():\n",
    "        x0 -= alpha * x0.grad  # x0 = x0-alpha * x0.grad 创建一个新的张量并赋值给x\n",
    "    x0.grad.zero_()\n",
    "    # 计算新的y0\n",
    "    y0 = x0**2\n",
    "    # 检查是否满足结束条件\n",
    "    if abs(y0.item() - y) < epsilon:\n",
    "        break\n",
    "\n",
    "y0.backward()\n",
    "print(\"x0: \", x0, \"y0: \", y0, \"x0.grad: \", x0.grad)"
   ]
  },
  {
   "cell_type": "code",
   "execution_count": null,
   "id": "64f5ea60-ae63-4c77-999c-2101020a9864",
   "metadata": {},
   "outputs": [],
   "source": [
    "#设计两个波谷的一元函数，使用梯度下降算法找到全局最小值(作业)"
   ]
  },
  {
   "cell_type": "code",
   "execution_count": 21,
   "id": "b0b5f73f-a9e5-4853-a593-b5e8a7acbe2d",
   "metadata": {},
   "outputs": [
    {
     "name": "stdout",
     "output_type": "stream",
     "text": [
      "第一个波谷处最小值近似解：\n",
      "x0:  tensor(0., requires_grad=True) y0:  tensor(1., grad_fn=<PowBackward0>)\n",
      "第二个波谷处最小值近似解：\n",
      "x0:  tensor(-1.0035, requires_grad=True) y0:  tensor(4.9036e-05, grad_fn=<PowBackward0>)\n"
     ]
    }
   ],
   "source": [
    "# 定义目标函数\n",
    "def objective_function(x):\n",
    "    return (x**2 - 1)**2\n",
    "\n",
    "# 用于判断是否陷入局部最小值的计数器及阈值（通用设置）\n",
    "stuck_count_general = 0\n",
    "stuck_threshold_general = 100\n",
    "\n",
    "# 第一个波谷附近求最小值近似解\n",
    "x0_first = torch.tensor(0.0, requires_grad=True)\n",
    "y0_first = objective_function(x0_first)\n",
    "\n",
    "alpha = 0.01\n",
    "epsilon = 0.00001\n",
    "\n",
    "x_values_first = []\n",
    "y_values_first = []\n",
    "\n",
    "while True:\n",
    "    # 计算梯度\n",
    "    y0_first.backward()\n",
    "    y_first = y0_first.item()  # 保存y0在当前迭代的取值，用于判断迭代的停止条件\n",
    "    # 更新x0\n",
    "    with torch.no_grad():\n",
    "        x0_first -= alpha * x0_first.grad  # x0 = x0-alpha * x0.grad 创建一个新的张量并赋值给x\n",
    "    x0_first.grad.zero_()\n",
    "    # 计算新的y0\n",
    "    y0_first = objective_function(x0_first)\n",
    "\n",
    "    # 检查是否满足结束条件\n",
    "    if abs(y0_first.item() - y_first) < epsilon:\n",
    "        break\n",
    "\n",
    "    # 判断是否陷入局部最小值\n",
    "    if abs(y0_first.item() - y_first) < 0.0001:  # 如果目标函数值变化很小\n",
    "        stuck_count_general += 1\n",
    "    else:\n",
    "        stuck_count_general = 0\n",
    "\n",
    "    if stuck_count_general >= stuck_threshold_general:  # 如果连续多次目标函数值变化很小，视为陷入局部最小值\n",
    "        # 重新初始化x0到第一个波谷附近区域\n",
    "        x0_first = torch.tensor(0.0, requires_grad=True)\n",
    "        y0_first = objective_function(x0_first)\n",
    "        stuck_count_general = 0\n",
    "\n",
    "# 输出第一个波谷处最小值近似解\n",
    "print(\"第一个波谷处最小值近似解：\")\n",
    "print(\"x0: \", x0_first, \"y0: \", y0_first)\n",
    "\n",
    "# 第二个波谷附近求最小值近似解\n",
    "x0_second = torch.tensor(-2.0, requires_grad=True)\n",
    "y0_second = objective_function(x0_second)\n",
    "\n",
    "x_values_second = []\n",
    "y_values_second = []\n",
    "\n",
    "while True:\n",
    "    # 计算梯度\n",
    "    y0_second.backward()\n",
    "    y_second = y0_second.item()  # 保存y0在当前迭代的取值，用于判断迭代的停止条件\n",
    "    # 更新x0\n",
    "    with torch.no_grad():\n",
    "        x0_second -= alpha * x0_second.grad  # x0 = x0-alpha * x0.grad 创建一个新的张量并赋值给x\n",
    "    x0_second.grad.zero_()\n",
    "    # 计算新的y0\n",
    "    y0_second = objective_function(x0_second)\n",
    "\n",
    "    # 检查是否满足结束条件\n",
    "    if abs(y0_second.item() - y_second) < epsilon:\n",
    "        break\n",
    "\n",
    "    # 判断是否陷入局部最小值\n",
    "    if abs(y0_second.item() - y_second) < 0.0001:  # 如果目标函数值变化很小\n",
    "        stuck_count_general += 1\n",
    "    else:\n",
    "        stuck_count_general = 0\n",
    "\n",
    "    if stuck_count_general >= stuck_threshold_general:  # 如果连续多次目标函数值变化很小，视为陷入局部最小值\n",
    "        # 重新初始化x0到第二个波谷附近区域\n",
    "        x0_second = torch.tensor(-2.0, requires_grad=True)\n",
    "        y0_second = objective_function(x0_second)\n",
    "        stuck_count_general = 0\n",
    "\n",
    "# 输出第二个波谷处最小值近似解\n",
    "print(\"第二个波谷处最小值近似解：\")\n",
    "print(\"x0: \", x0_second, \"y0: \", y0_second)"
   ]
  },
  {
   "cell_type": "code",
   "execution_count": null,
   "id": "06806cf4-0c55-43de-b932-98e9f363c448",
   "metadata": {},
   "outputs": [],
   "source": []
  }
 ],
 "metadata": {
  "kernelspec": {
   "display_name": "Python 3 (ipykernel)",
   "language": "python",
   "name": "python3"
  },
  "language_info": {
   "codemirror_mode": {
    "name": "ipython",
    "version": 3
   },
   "file_extension": ".py",
   "mimetype": "text/x-python",
   "name": "python",
   "nbconvert_exporter": "python",
   "pygments_lexer": "ipython3",
   "version": "3.9.7"
  }
 },
 "nbformat": 4,
 "nbformat_minor": 5
}

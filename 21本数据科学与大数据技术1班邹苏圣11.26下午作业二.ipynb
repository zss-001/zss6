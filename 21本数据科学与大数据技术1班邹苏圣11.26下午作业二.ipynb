{
 "cells": [
  {
   "cell_type": "code",
   "execution_count": 7,
   "id": "bf46f6b6-2607-48aa-9d71-6997d96e125b",
   "metadata": {},
   "outputs": [
    {
     "name": "stdout",
     "output_type": "stream",
     "text": [
      "Estimated probabilities: [0.16789149 0.16888201 0.1693751  0.15869886 0.16284855 0.17230399]\n"
     ]
    }
   ],
   "source": [
    "import numpy as np\n",
    "# 1. 似然函数\n",
    "def likelihood(p, data):\n",
    "    result = 1\n",
    "    for d in data:\n",
    "        result *= p[d - 1]\n",
    "    return result\n",
    "\n",
    "# 2. 生成观测数据\n",
    "def generate_observations(n):\n",
    "    return np.random.randint(1, 7, n)\n",
    "\n",
    "# 3. 使用梯度下降求极大似然估计\n",
    "def gradient_descent(n, learning_rate=0.01, num_iterations=1000):\n",
    "    # 生成观测数据\n",
    "    observed_data = generate_observations(n)\n",
    "    # 初始化概率\n",
    "    p = np.ones(6) / 6\n",
    "    for _ in range(num_iterations):\n",
    "        grad = np.zeros(6)\n",
    "        for i in range(6):\n",
    "            indicator = np.array([1 if x == i + 1 else 0 for x in observed_data])\n",
    "            grad[i] = np.sum(indicator / p[i])\n",
    "        p += learning_rate * grad\n",
    "        p /= np.sum(p)\n",
    "    return p\n",
    "\n",
    "if __name__ == \"__main__\":\n",
    "    n_trials = 1000\n",
    "    estimated_p = gradient_descent(n_trials)\n",
    "    print(\"Estimated probabilities:\", estimated_p)"
   ]
  },
  {
   "cell_type": "code",
   "execution_count": null,
   "id": "5f3edf3d-b4bd-4933-96be-073ff6559142",
   "metadata": {},
   "outputs": [],
   "source": []
  }
 ],
 "metadata": {
  "kernelspec": {
   "display_name": "Python 3 (ipykernel)",
   "language": "python",
   "name": "python3"
  },
  "language_info": {
   "codemirror_mode": {
    "name": "ipython",
    "version": 3
   },
   "file_extension": ".py",
   "mimetype": "text/x-python",
   "name": "python",
   "nbconvert_exporter": "python",
   "pygments_lexer": "ipython3",
   "version": "3.9.7"
  }
 },
 "nbformat": 4,
 "nbformat_minor": 5
}
